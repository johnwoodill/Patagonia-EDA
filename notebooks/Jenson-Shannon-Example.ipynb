{
 "cells": [
  {
   "cell_type": "code",
   "execution_count": 2,
   "metadata": {},
   "outputs": [],
   "source": [
    "import pandas as pd\n",
    "from scipy import stats\n",
    "import numpy as np\n",
    "from dit.divergences import jensen_shannon_divergence\n",
    "from scipy.spatial import distance\n",
    "import scipy.spatial.distance as ssd\n",
    "from scipy.cluster.hierarchy import dendrogram, linkage\n",
    "import random\n",
    "import seaborn as sns"
   ]
  },
  {
   "cell_type": "code",
   "execution_count": 3,
   "metadata": {},
   "outputs": [],
   "source": [
    "# Generate some sample data\n",
    "random.seed(123)\n",
    "day0 = np.abs(np.random.normal(50, 19, 1000))\n",
    "day1 = day0 + 1\n",
    "day2 = day0 + 2\n",
    "\n",
    "day3 = day1 + 80\n",
    "day4 = day1 + 100 # Day of event\n",
    "day5 = day1 + 90\n",
    "\n",
    "day6 = day1 + 1\n",
    "day7 = day2 + 1\n",
    "day8 = day1 + 1\n",
    "\n",
    "samp_dat = pd.DataFrame({'day': np.repeat([1, 2, 3, 4, 5, 6, 7, 8, 9], 1000),\n",
    "                        'distance': np.concatenate([day0, day1, day2, day3, day4, \\\n",
    "                                                   day5, day6, day7, day8])})\n",
    "samp_dat['distance'] = np.log(1 + samp_dat['distance'])"
   ]
  },
  {
   "cell_type": "code",
   "execution_count": 4,
   "metadata": {},
   "outputs": [],
   "source": [
    "# Get JS Distances\n",
    "jds_dmat = pd.DataFrame()\n",
    "for i in range(1, 10):\n",
    "    for j in range(1, 10):\n",
    "        x = samp_dat[samp_dat['day'] == i].distance\n",
    "        y = samp_dat[samp_dat['day'] == j].distance\n",
    "        jds = distance.jensenshannon(x, y)\n",
    "        outdat = pd.DataFrame({'day_a': [i], 'day_b': [j], 'jds': [round(jds, 4)]})\n",
    "        jds_dmat = jds_dmat.append(outdat, ignore_index=True)"
   ]
  },
  {
   "cell_type": "code",
   "execution_count": 5,
   "metadata": {},
   "outputs": [
    {
     "data": {
      "text/plain": [
       "array([0.0069, 0.0109, 0.0439, 0.0454, 0.0447, 0.0109, 0.0138, 0.0109,\n",
       "       0.0041, 0.0385, 0.0401, 0.0394, 0.0041, 0.0071, 0.0041, 0.0351,\n",
       "       0.0367, 0.036 , 0.    , 0.003 , 0.    , 0.0017, 0.0009, 0.0351,\n",
       "       0.0325, 0.0351, 0.0008, 0.0367, 0.0341, 0.0367, 0.036 , 0.0334,\n",
       "       0.036 , 0.003 , 0.    , 0.003 ])"
      ]
     },
     "execution_count": 5,
     "metadata": {},
     "output_type": "execute_result"
    }
   ],
   "source": [
    "# Calculate distance matrix\n",
    "distMatrix = jds_dmat.pivot(index='day_a', columns='day_b', values='jds')\n",
    "distArray = ssd.squareform(distMatrix)\n",
    "distArray"
   ]
  },
  {
   "cell_type": "code",
   "execution_count": 6,
   "metadata": {},
   "outputs": [
    {
     "data": {
      "image/png": "[encoded data removed]",
      "text/plain": [
       "<Figure size 432x288 with 1 Axes>"
      ]
     },
     "metadata": {
      "needs_background": "light"
     },
     "output_type": "display_data"
    }
   ],
   "source": [
    "# Perform H-Clustering using distance matrix\n",
    "# Note 3, 4, 5 days are clustered together as a day of event\n",
    "Z = linkage(distArray, \"single\")\n",
    "dn = dendrogram(Z)"
   ]
  },
  {
   "cell_type": "code",
   "execution_count": 7,
   "metadata": {},
   "outputs": [
    {
     "data": {
      "image/png": "[encoded data removed]",
      "text/plain": [
       "<Figure size 432x288 with 1 Axes>"
      ]
     },
     "metadata": {
      "needs_background": "light"
     },
     "output_type": "display_data"
    }
   ],
   "source": [
    "Z = linkage(distArray, \"complete\")\n",
    "dn = dendrogram(Z)"
   ]
  },
  {
   "cell_type": "code",
   "execution_count": 8,
   "metadata": {},
   "outputs": [
    {
     "name": "stdout",
     "output_type": "stream",
     "text": [
      "Clusters: [[2, 0, 1, 6, 7, 8], [4, 3, 5]]   Medoids: [2, 5]\n"
     ]
    }
   ],
   "source": [
    "from pyclustering.cluster.kmedoids import kmedoids;\n",
    "from pyclustering.cluster import cluster_visualizer, cluster_visualizer_multidim;\n",
    "from pyclustering.cluster.kmedoids import kmedoids;\n",
    "\n",
    "from pyclustering.utils import read_sample;\n",
    "from pyclustering.utils import timedcall;\n",
    "\n",
    "distMatrix = np.array(distMatrix)\n",
    "\n",
    "# K-Medoids Clustering\n",
    "initial_medoids = [2, 4]\n",
    "\n",
    "# create K-Medoids algorithm for processing distance matrix instead of points\n",
    "kmedoids_instance = kmedoids(distMatrix, initial_medoids, data_type='distance_matrix', ccore=True)\n",
    "\n",
    "# run cluster analysis and obtain results\n",
    "kmedoids_instance.process()\n",
    "\n",
    "clusters = kmedoids_instance.get_clusters()\n",
    "medoids = kmedoids_instance.get_medoids()\n",
    "print(f\"Clusters: {clusters}   Medoids: {medoids}\")"
   ]
  },
  {
   "cell_type": "code",
   "execution_count": 10,
   "metadata": {},
   "outputs": [
    {
     "data": {
      "text/plain": [
       "[<matplotlib.axis.YTick at 0x7f1bde4c1160>,\n",
       " <matplotlib.axis.YTick at 0x7f1bde4bba58>]"
      ]
     },
     "execution_count": 10,
     "metadata": {},
     "output_type": "execute_result"
    },
    {
     "data": {
      "image/png": "[encoded data removed]",
      "text/plain": [
       "<Figure size 432x288 with 1 Axes>"
      ]
     },
     "metadata": {
      "needs_background": "light"
     },
     "output_type": "display_data"
    }
   ],
   "source": [
    "final_list = []\n",
    "for i, l in enumerate(clusters):\n",
    "    for num in l:\n",
    "        final_list.append({'value': num, 'group': i})\n",
    "\n",
    "df = pd.DataFrame(final_list)\n",
    "ax = sns.scatterplot(x='value', y='group', data=df)\n",
    "ax.set(xlabel='Day', ylabel='Cluster')\n",
    "ax.set_yticks([0, 1])\n"
   ]
  }
 ],
 "metadata": {
  "kernelspec": {
   "display_name": "baseDS_env",
   "language": "python",
   "name": "baseds_env"
  },
  "language_info": {
   "codemirror_mode": {
    "name": "ipython",
    "version": 3
   },
   "file_extension": ".py",
   "mimetype": "text/x-python",
   "name": "python",
   "nbconvert_exporter": "python",
   "pygments_lexer": "ipython3",
   "version": "3.7.1"
  }
 },
 "nbformat": 4,
 "nbformat_minor": 2
}
