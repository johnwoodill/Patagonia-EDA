{
 "cells": [
  {
   "cell_type": "code",
   "execution_count": 2,
   "metadata": {},
   "outputs": [],
   "source": [
    "import pandas as pd\n",
    "from scipy import stats\n",
    "import numpy as np\n",
    "from dit.divergences import jensen_shannon_divergence\n",
    "from scipy.spatial import distance\n",
    "import scipy.spatial.distance as ssd\n",
    "from scipy.cluster.hierarchy import dendrogram, linkage\n",
    "import random"
   ]
  },
  {
   "cell_type": "code",
   "execution_count": 20,
   "metadata": {},
   "outputs": [],
   "source": [
    "# Generate some sample data\n",
    "random.seed(123)\n",
    "day0 = np.abs(np.random.normal(50, 19, 1000))\n",
    "day1 = day0 + 1\n",
    "day2 = day0 + 2\n",
    "\n",
    "day3 = day1 + 80\n",
    "day4 = day1 + 100 # Day of event\n",
    "day5 = day1 + 90\n",
    "\n",
    "day6 = day1 + 1\n",
    "day7 = day2 + 1\n",
    "day8 = day1 + 1\n",
    "\n",
    "samp_dat = pd.DataFrame({'day': np.repeat([1, 2, 3, 4, 5, 6, 7, 8, 9], 1000),\n",
    "                        'distance': np.concatenate([day0, day1, day2, day3, day4, \\\n",
    "                                                   day5, day6, day7, day8])})\n",
    "samp_dat['distance'] = np.log(1 + samp_dat['distance'])"
   ]
  },
  {
   "cell_type": "code",
   "execution_count": 21,
   "metadata": {},
   "outputs": [],
   "source": [
    "# Get JS Distances\n",
    "jds_dmat = pd.DataFrame()\n",
    "for i in range(1, 10):\n",
    "    for j in range(1, 10):\n",
    "        x = samp_dat[samp_dat['day'] == i].distance\n",
    "        y = samp_dat[samp_dat['day'] == j].distance\n",
    "        jds = distance.jensenshannon(x, y)\n",
    "        outdat = pd.DataFrame({'day_a': [i], 'day_b': [j], 'jds': [round(jds, 4)]})\n",
    "        jds_dmat = jds_dmat.append(outdat, ignore_index=True)"
   ]
  },
  {
   "cell_type": "code",
   "execution_count": 22,
   "metadata": {},
   "outputs": [
    {
     "data": {
      "text/plain": [
       "array([0.0091, 0.0125, 0.041 , 0.0424, 0.0418, 0.0125, 0.0149, 0.0125,\n",
       "       0.0039, 0.0353, 0.0368, 0.0361, 0.0039, 0.0065, 0.0039, 0.0322,\n",
       "       0.0338, 0.0331, 0.    , 0.0027, 0.    , 0.0017, 0.0009, 0.0322,\n",
       "       0.0299, 0.0322, 0.0008, 0.0338, 0.0315, 0.0338, 0.0331, 0.0308,\n",
       "       0.0331, 0.0027, 0.    , 0.0027])"
      ]
     },
     "execution_count": 22,
     "metadata": {},
     "output_type": "execute_result"
    }
   ],
   "source": [
    "# Calculate distance matrix\n",
    "distMatrix = jds_dmat.pivot(index='day_a', columns='day_b', values='jds')\n",
    "distArray = ssd.squareform(distMatrix)\n",
    "distArray"
   ]
  },
  {
   "cell_type": "code",
   "execution_count": 24,
   "metadata": {},
   "outputs": [
    {
     "data": {
      "image/png": "[encoded data removed]",
      "text/plain": [
       "<Figure size 432x288 with 1 Axes>"
      ]
     },
     "metadata": {
      "needs_background": "light"
     },
     "output_type": "display_data"
    }
   ],
   "source": [
    "# Perform H-Clustering using distance matrix\n",
    "# Note 3, 4, 5 days are clustered together as a day of event\n",
    "Z = linkage(distArray, )\n",
    "dn = dendrogram(Z)"
   ]
  },
  {
   "cell_type": "code",
   "execution_count": null,
   "metadata": {},
   "outputs": [],
   "source": [
    "from pyclustering.cluster.kmedoids import kmedoids;\n",
    "# K-Medoids Clustering\n",
    "initial_medoids = [1, 2]\n",
    "# create K-Medoids algorithm for processing distance matrix instead of points\n",
    "kmedoids_instance = kmedoids(distArray, initial_medoids, data_type='distance_matrix')\n",
    "\n",
    "# run cluster analysis and obtain results\n",
    "kmedoids_instance.process()\n",
    "\n",
    "#clusters = kmedoids_instance.get_clusters()\n",
    "#medoids = kmedoids_instance.get_medoids()"
   ]
  }
 ],
 "metadata": {
  "kernelspec": {
   "display_name": "baseDS_env",
   "language": "python",
   "name": "baseds_env"
  },
  "language_info": {
   "codemirror_mode": {
    "name": "ipython",
    "version": 3
   },
   "file_extension": ".py",
   "mimetype": "text/x-python",
   "name": "python",
   "nbconvert_exporter": "python",
   "pygments_lexer": "ipython3",
   "version": "3.7.1"
  }
 },
 "nbformat": 4,
 "nbformat_minor": 2
}
