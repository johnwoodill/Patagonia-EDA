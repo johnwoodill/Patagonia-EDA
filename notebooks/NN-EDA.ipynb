{
 "cells": [
  {
   "cell_type": "code",
   "execution_count": 25,
   "metadata": {},
   "outputs": [],
   "source": [
    "import pandas as pd\n",
    "import glob\n",
    "import multiprocessing"
   ]
  },
  {
   "cell_type": "code",
   "execution_count": 42,
   "metadata": {},
   "outputs": [],
   "source": [
    "# Get list of files in folder\n",
    "files = []\n",
    "for file in glob.glob(\"/home/server/pi/homes/woodilla/Data/GFW_point/Patagonia_Shelf/distance_data/circle_measure\" + \"/*.feather\"):\n",
    "    files.append(file)\n",
    "nfiles = sorted(files)[0:10]"
   ]
  },
  {
   "cell_type": "code",
   "execution_count": 31,
   "metadata": {},
   "outputs": [
    {
     "ename": "ValueError",
     "evalue": "feather does not support serializing a non-default index for the index; you can .reset_index() to make the index into column(s)",
     "output_type": "error",
     "traceback": [
      "\u001b[0;31m---------------------------------------------------------------------------\u001b[0m",
      "\u001b[0;31mRemoteTraceback\u001b[0m                           Traceback (most recent call last)",
      "\u001b[0;31mRemoteTraceback\u001b[0m: \n\"\"\"\nTraceback (most recent call last):\n  File \"/home/server/pi/homes/woodilla/.conda/envs/baseDS_env/lib/python3.7/multiprocessing/pool.py\", line 121, in worker\n    result = (True, func(*args, **kwds))\n  File \"/home/server/pi/homes/woodilla/.conda/envs/baseDS_env/lib/python3.7/multiprocessing/pool.py\", line 44, in mapstar\n    return list(map(*args))\n  File \"<ipython-input-31-dc99b1c697f6>\", line 7, in gfw_process_nn\n    outdat.to_feather('/home/server/pi/homes/woodilla/Data/GFW_point/Patagonia_Shelf/distance_data/NearestNeighbor/' + outdat['date'][1] + '_NN.feather')\n  File \"/home/server/pi/homes/woodilla/.conda/envs/baseDS_env/lib/python3.7/site-packages/pandas/core/frame.py\", line 2131, in to_feather\n    to_feather(self, fname)\n  File \"/home/server/pi/homes/woodilla/.conda/envs/baseDS_env/lib/python3.7/site-packages/pandas/io/feather_format.py\", line 67, in to_feather\n    raise ValueError(\"feather does not support serializing a \"\nValueError: feather does not support serializing a non-default index for the index; you can .reset_index() to make the index into column(s)\n\"\"\"",
      "\nThe above exception was the direct cause of the following exception:\n",
      "\u001b[0;31mValueError\u001b[0m                                Traceback (most recent call last)",
      "\u001b[0;32m<ipython-input-31-dc99b1c697f6>\u001b[0m in \u001b[0;36m<module>\u001b[0;34m\u001b[0m\n\u001b[1;32m      9\u001b[0m \u001b[0;34m\u001b[0m\u001b[0m\n\u001b[1;32m     10\u001b[0m \u001b[0mpool\u001b[0m \u001b[0;34m=\u001b[0m \u001b[0mmultiprocessing\u001b[0m\u001b[0;34m.\u001b[0m\u001b[0mPool\u001b[0m\u001b[0;34m(\u001b[0m\u001b[0;36m5\u001b[0m\u001b[0;34m,\u001b[0m \u001b[0mmaxtasksperchild\u001b[0m\u001b[0;34m=\u001b[0m\u001b[0;36m1\u001b[0m\u001b[0;34m)\u001b[0m\u001b[0;34m\u001b[0m\u001b[0;34m\u001b[0m\u001b[0m\n\u001b[0;32m---> 11\u001b[0;31m \u001b[0mpool\u001b[0m\u001b[0;34m.\u001b[0m\u001b[0mmap\u001b[0m\u001b[0;34m(\u001b[0m\u001b[0mgfw_process_nn\u001b[0m\u001b[0;34m,\u001b[0m \u001b[0mnfiles\u001b[0m\u001b[0;34m)\u001b[0m\u001b[0;34m\u001b[0m\u001b[0;34m\u001b[0m\u001b[0m\n\u001b[0m\u001b[1;32m     12\u001b[0m \u001b[0mpool\u001b[0m\u001b[0;34m.\u001b[0m\u001b[0mclose\u001b[0m\u001b[0;34m(\u001b[0m\u001b[0;34m)\u001b[0m\u001b[0;34m\u001b[0m\u001b[0;34m\u001b[0m\u001b[0m\n",
      "\u001b[0;32m~/.conda/envs/baseDS_env/lib/python3.7/multiprocessing/pool.py\u001b[0m in \u001b[0;36mmap\u001b[0;34m(self, func, iterable, chunksize)\u001b[0m\n\u001b[1;32m    288\u001b[0m         \u001b[0;32min\u001b[0m \u001b[0ma\u001b[0m \u001b[0mlist\u001b[0m \u001b[0mthat\u001b[0m \u001b[0;32mis\u001b[0m \u001b[0mreturned\u001b[0m\u001b[0;34m.\u001b[0m\u001b[0;34m\u001b[0m\u001b[0;34m\u001b[0m\u001b[0m\n\u001b[1;32m    289\u001b[0m         '''\n\u001b[0;32m--> 290\u001b[0;31m         \u001b[0;32mreturn\u001b[0m \u001b[0mself\u001b[0m\u001b[0;34m.\u001b[0m\u001b[0m_map_async\u001b[0m\u001b[0;34m(\u001b[0m\u001b[0mfunc\u001b[0m\u001b[0;34m,\u001b[0m \u001b[0miterable\u001b[0m\u001b[0;34m,\u001b[0m \u001b[0mmapstar\u001b[0m\u001b[0;34m,\u001b[0m \u001b[0mchunksize\u001b[0m\u001b[0;34m)\u001b[0m\u001b[0;34m.\u001b[0m\u001b[0mget\u001b[0m\u001b[0;34m(\u001b[0m\u001b[0;34m)\u001b[0m\u001b[0;34m\u001b[0m\u001b[0;34m\u001b[0m\u001b[0m\n\u001b[0m\u001b[1;32m    291\u001b[0m \u001b[0;34m\u001b[0m\u001b[0m\n\u001b[1;32m    292\u001b[0m     \u001b[0;32mdef\u001b[0m \u001b[0mstarmap\u001b[0m\u001b[0;34m(\u001b[0m\u001b[0mself\u001b[0m\u001b[0;34m,\u001b[0m \u001b[0mfunc\u001b[0m\u001b[0;34m,\u001b[0m \u001b[0miterable\u001b[0m\u001b[0;34m,\u001b[0m \u001b[0mchunksize\u001b[0m\u001b[0;34m=\u001b[0m\u001b[0;32mNone\u001b[0m\u001b[0;34m)\u001b[0m\u001b[0;34m:\u001b[0m\u001b[0;34m\u001b[0m\u001b[0;34m\u001b[0m\u001b[0m\n",
      "\u001b[0;32m~/.conda/envs/baseDS_env/lib/python3.7/multiprocessing/pool.py\u001b[0m in \u001b[0;36mget\u001b[0;34m(self, timeout)\u001b[0m\n\u001b[1;32m    681\u001b[0m             \u001b[0;32mreturn\u001b[0m \u001b[0mself\u001b[0m\u001b[0;34m.\u001b[0m\u001b[0m_value\u001b[0m\u001b[0;34m\u001b[0m\u001b[0;34m\u001b[0m\u001b[0m\n\u001b[1;32m    682\u001b[0m         \u001b[0;32melse\u001b[0m\u001b[0;34m:\u001b[0m\u001b[0;34m\u001b[0m\u001b[0;34m\u001b[0m\u001b[0m\n\u001b[0;32m--> 683\u001b[0;31m             \u001b[0;32mraise\u001b[0m \u001b[0mself\u001b[0m\u001b[0;34m.\u001b[0m\u001b[0m_value\u001b[0m\u001b[0;34m\u001b[0m\u001b[0;34m\u001b[0m\u001b[0m\n\u001b[0m\u001b[1;32m    684\u001b[0m \u001b[0;34m\u001b[0m\u001b[0m\n\u001b[1;32m    685\u001b[0m     \u001b[0;32mdef\u001b[0m \u001b[0m_set\u001b[0m\u001b[0;34m(\u001b[0m\u001b[0mself\u001b[0m\u001b[0;34m,\u001b[0m \u001b[0mi\u001b[0m\u001b[0;34m,\u001b[0m \u001b[0mobj\u001b[0m\u001b[0;34m)\u001b[0m\u001b[0;34m:\u001b[0m\u001b[0;34m\u001b[0m\u001b[0;34m\u001b[0m\u001b[0m\n",
      "\u001b[0;31mValueError\u001b[0m: feather does not support serializing a non-default index for the index; you can .reset_index() to make the index into column(s)"
     ]
    }
   ],
   "source": [
    "def gfw_process_nn(i):\n",
    "    indat = pd.read_feather(i)\n",
    "    outdat = indat.sort_values('distance').groupby('vessel_A').nth([1,2, 3, 4, 5, 6, 7, 8, 9, 10]).reset_index()\n",
    "    outdat = outdat.sort_values(['vessel_A', 'distance'])\n",
    "    outdat['rank'] = outdat.groupby(['vessel_A']).cumcount() + 1\n",
    "    outdat = outdat.reset_index()\n",
    "    outdat.to_feather('/home/server/pi/homes/woodilla/Data/GFW_point/Patagonia_Shelf/distance_data/NearestNeighbor/' + outdat['date'][1] + '_NN.feather')\n",
    "    return outdat\n",
    "\n",
    "pool = multiprocessing.Pool(5, maxtasksperchild=1)         \n",
    "pool.map(gfw_process_nn, nfiles)\n",
    "pool.close()"
   ]
  },
  {
   "cell_type": "code",
   "execution_count": 24,
   "metadata": {},
   "outputs": [],
   "source": [
    "# Get subdirectory list of files\n",
    "subdir = '/home/server/pi/homes/woodilla/Data/GFW_point/Patagonia_Shelf/distance_data/NearestNeighbor/'\n",
    "allFiles = glob.glob(subdir + \"*.feather\")\n",
    "list_ = []\n",
    "\n",
    "# Append files in subdir\n",
    "for file_ in allFiles[0:10]:\n",
    "    df = pd.read_feather(file_)\n",
    "    list_.append(df)\n",
    "    dat = pd.concat(list_, axis = 0, ignore_index = True)\n",
    "\n",
    "dat.to_feather('~/Data/GFW_point/Patagonia_Shelf/complete/NN_2016-2018.feather')"
   ]
  },
  {
   "cell_type": "code",
   "execution_count": 41,
   "metadata": {},
   "outputs": [
    {
     "name": "stdout",
     "output_type": "stream",
     "text": [
      "       level_0  index   vessel_A        date   vessel_B     distance  rank\n",
      "0            0      3          9  2016-01-02       3340    13.648176     1\n",
      "1            1      1          9  2016-01-02       2411    17.185609     2\n",
      "2            2      8          9  2016-01-02  755062000    17.867183     3\n",
      "3            3      7          9  2016-01-02       2902    18.879051     4\n",
      "4            4      2          9  2016-01-02    4444444    21.116960     5\n",
      "5            5      9          9  2016-01-02       3604    25.153479     6\n",
      "6            6      0          9  2016-01-02    7010023    33.005206     7\n",
      "7            7      4          9  2016-01-02  701470708    37.557081     8\n",
      "8            8      5          9  2016-01-02  253545556    37.698224     9\n",
      "9            9      6          9  2016-01-02  123450011    37.707309    10\n",
      "10          10     16         11  2016-01-02  701006152     0.021727     1\n",
      "11          11     14         11  2016-01-02  701007046     0.022888     2\n",
      "12          12     15         11  2016-01-02  701006155     0.027569     3\n",
      "13          13     11         11  2016-01-02  701006454     0.035743     4\n",
      "14          14     12         11  2016-01-02  701000851     0.074877     5\n",
      "15          15     10         11  2016-01-02  256410000     0.243934     6\n",
      "16          16     19         11  2016-01-02  701007048     0.273525     7\n",
      "17          17     18         11  2016-01-02  636014263     0.418068     8\n",
      "18          18     13         11  2016-01-02  701000871     0.461983     9\n",
      "19          19     17         11  2016-01-02      36407     0.551793    10\n",
      "20          20     24        372  2016-01-02    7550006     5.962096     1\n",
      "21          21     25        372  2016-01-02  755503532    13.074438     2\n",
      "22          22     23        372  2016-01-02  755002599    48.853650     3\n",
      "23          23     27        372  2016-01-02       2409    99.112619     4\n",
      "24          24     21        372  2016-01-02  755003495   110.757063     5\n",
      "25          25     29        372  2016-01-02  755004071   110.815569     6\n",
      "26          26     22        372  2016-01-02  402000000   117.165793     7\n",
      "27          27     20        372  2016-01-02  755890643   118.573474     8\n",
      "28          28     28        372  2016-01-02  999999989   119.116688     9\n",
      "29          29     26        372  2016-01-02  755991013   119.162068    10\n",
      "...        ...    ...        ...         ...        ...          ...   ...\n",
      "23295    23295  23289  997701004  2016-01-02  999999989   682.893715     7\n",
      "23296    23296  23290  997701004  2016-01-02  997753940   769.960965     8\n",
      "23297    23297  23299  997701006  2016-01-02  997701007     1.876118     1\n",
      "23298    23298  23298  997701006  2016-01-02  997701009     7.742797     2\n",
      "23299    23299  23303  997701006  2016-01-02  997705001    17.683988     3\n",
      "23300    23300  23300  997701006  2016-01-02  998666200   262.821457     4\n",
      "23301    23301  23302  997701006  2016-01-02  999999999   662.797507     5\n",
      "23302    23302  23301  997701006  2016-01-02  999999989   685.154336     6\n",
      "23303    23303  23297  997701006  2016-01-02  997753940   770.316027     7\n",
      "23304    23304  23309  997701007  2016-01-02  997701009     5.874527     1\n",
      "23305    23305  23307  997701007  2016-01-02  997705001    19.482787     2\n",
      "23306    23306  23305  997701007  2016-01-02  998666200   264.605017     3\n",
      "23307    23307  23304  997701007  2016-01-02  999999999   660.925485     4\n",
      "23308    23308  23306  997701007  2016-01-02  999999989   685.645375     5\n",
      "23309    23309  23308  997701007  2016-01-02  997753940   770.649585     6\n",
      "23310    23310  23310  997701009  2016-01-02  997705001    25.292934     1\n",
      "23311    23311  23311  997701009  2016-01-02  998666200   270.354167     2\n",
      "23312    23312  23312  997701009  2016-01-02  999999999   655.137667     3\n",
      "23313    23313  23314  997701009  2016-01-02  999999989   687.797885     4\n",
      "23314    23314  23313  997701009  2016-01-02  997753940   771.110791     5\n",
      "23315    23315  23316  997705001  2016-01-02  998666200   245.139256     1\n",
      "23316    23316  23317  997705001  2016-01-02  999999989   675.829677     2\n",
      "23317    23317  23318  997705001  2016-01-02  999999999   679.322075     3\n",
      "23318    23318  23315  997705001  2016-01-02  997753940   772.721673     4\n",
      "23319    23319  23321  997753940  2016-01-02  998666200   847.167668     1\n",
      "23320    23320  23319  997753940  2016-01-02  999999999  1128.576418     2\n",
      "23321    23321  23320  997753940  2016-01-02  999999989  1419.957264     3\n",
      "23322    23322  23322  998666200  2016-01-02  999999989   583.651428     1\n",
      "23323    23323  23323  998666200  2016-01-02  999999999   911.865935     2\n",
      "23324    23324  23324  999999989  2016-01-02  999999999  1040.536755     1\n",
      "\n",
      "[23325 rows x 7 columns]\n"
     ]
    }
   ],
   "source": [
    "indat = pd.read_feather(nfiles[0])\n",
    "outdat = indat.sort_values('distance').groupby('vessel_A').nth([1,2, 3, 4, 5, 6, 7, 8, 9, 10]).reset_index()\n",
    "outdat = outdat.sort_values(['vessel_A', 'distance'])\n",
    "outdat['rank'] = outdat.groupby(['vessel_A']).cumcount()+1\n",
    "outdat = outdat.reset_index()\n",
    "outdat.to_feather('/home/server/pi/homes/woodilla/Data/GFW_point/Patagonia_Shelf/distance_data/NearestNeighbor/' + outdat['date'][1] + '_NN.feather')\n",
    "print(outdat.reset_index())"
   ]
  }
 ],
 "metadata": {
  "kernelspec": {
   "display_name": "baseDS_env",
   "language": "python",
   "name": "baseds_env"
  },
  "language_info": {
   "codemirror_mode": {
    "name": "ipython",
    "version": 3
   },
   "file_extension": ".py",
   "mimetype": "text/x-python",
   "name": "python",
   "nbconvert_exporter": "python",
   "pygments_lexer": "ipython3",
   "version": "3.7.1"
  }
 },
 "nbformat": 4,
 "nbformat_minor": 2
}
