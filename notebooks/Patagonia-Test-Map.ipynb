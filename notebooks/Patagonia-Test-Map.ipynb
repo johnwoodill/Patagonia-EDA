{
 "cells": [
  {
   "cell_type": "code",
   "execution_count": 1,
   "metadata": {},
   "outputs": [],
   "source": [
    "import pandas as pd\n",
    "import numpy as np \n",
    "import feather\n",
    "import os as os\n",
    "#os.environ[\"PROJ_LIB\"] = \"/Users/john/miniconda3/share/proj\"; #fixr\n",
    "#from mpl_toolkits.basemap import Basemap\n",
    "import matplotlib.pyplot as plt\n",
    "#import glob\n",
    "%matplotlib inline\n",
    "import cartopy.crs as ccrs"
   ]
  },
  {
   "cell_type": "code",
   "execution_count": 2,
   "metadata": {},
   "outputs": [],
   "source": [
    "dat2 = pd.read_feather('~/Data/GFW_point/Patagonia_Shelf/feather/2016-01-03.feather')"
   ]
  },
  {
   "cell_type": "code",
   "execution_count": null,
   "metadata": {},
   "outputs": [],
   "source": [
    "lon1 = -77\n",
    "lon2 = -22\n",
    "lat1 = -58\n",
    "lat2 = -23\n",
    "\n",
    "#dat2 = dat[0:100]\n",
    "#dat2 = dat[dat['distance_from_shore_m'] >= 2]\n",
    "#dat2 = dat2[dat2['distance_from_port_m'] >= 2]\n",
    "\n",
    "#dat2 = dat2[(dat2['lon'] >= lon1) & (dat2['lon'] <= lon2) & (dat2['lat'] <= lat1) & (dat2['lat'] >= lat2)]\n",
    "\n",
    "#dat2 = dat\n",
    "my_dpi=96\n",
    "fig = plt.figure(figsize=(2600/my_dpi, 1800/my_dpi), dpi=my_dpi)\n",
    "#fig = plt.figure(figsize=(10, 5))\n",
    "ax = fig.add_subplot(1, 1, 1, projection=ccrs.PlateCarree())\n",
    "ax.set_extent([lon1, lon2, lat1, lat2], crs=ccrs.PlateCarree())\n",
    "# make the map global rather than have it zoom in to\n",
    "# the extents of any plotted data\n",
    "#ax.set_global()\n",
    "ax.stock_img()\n",
    "ax.coastlines()\n",
    "    \n",
    "for mmsi, track in dat2.groupby('mmsi'):\n",
    "\n",
    "    x = track.lat.values\n",
    "    y = track.lon.values\n",
    "\n",
    "    #Convert latitude and longitude to coordinates X and Y\n",
    "    #x, y = m(longitude, latitude)\n",
    "\n",
    "    #Plot the points on the map\n",
    "    #m.plot(x,y,'-', label=mmsi)\n",
    "    \n",
    "    ax.plot(x, y, label=mmsi, transform=ccrs.PlateCarree())\n",
    "    ax.plot(x, y, 'o', markersize=1, color = 'black', label=mmsi, transform=ccrs.PlateCarree())\n",
    "    "
   ]
  }
 ],
 "metadata": {
  "kernelspec": {
   "display_name": "baseDS_env",
   "language": "python",
   "name": "baseds_env"
  },
  "language_info": {
   "codemirror_mode": {
    "name": "ipython",
    "version": 3
   },
   "file_extension": ".py",
   "mimetype": "text/x-python",
   "name": "python",
   "nbconvert_exporter": "python",
   "pygments_lexer": "ipython3",
   "version": "3.7.1"
  }
 },
 "nbformat": 4,
 "nbformat_minor": 2
}
